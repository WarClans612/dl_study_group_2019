{
 "cells": [
  {
   "cell_type": "code",
   "execution_count": 1,
   "metadata": {},
   "outputs": [],
   "source": [
    "import numpy as np\n",
    "import matplotlib.pyplot as plt"
   ]
  },
  {
   "cell_type": "code",
   "execution_count": 2,
   "metadata": {},
   "outputs": [],
   "source": [
    "def generate_linear(n=100):\n",
    "    pts = np.random.uniform(0, 1, (n, 2))\n",
    "    inputs = []\n",
    "    labels = []\n",
    "    for pt in pts:\n",
    "        inputs.append([pt[0], pt[1]])\n",
    "        distance = (pt[0]-pt[1])/1.414\n",
    "        if pt[0] > pt[1]:\n",
    "            labels.append(0)\n",
    "        else:\n",
    "            labels.append(1)\n",
    "    return np.array(inputs), np.array(labels).reshape(n, 1)"
   ]
  },
  {
   "cell_type": "code",
   "execution_count": 3,
   "metadata": {},
   "outputs": [],
   "source": [
    "def generate_XOR_easy():\n",
    "    inputs = []\n",
    "    labels = []\n",
    "\n",
    "    for i in range(11):\n",
    "        inputs.append([0.1*i, 0.1*i])\n",
    "        labels.append(0)\n",
    "        if 0.1*i == 0.5:\n",
    "            continue\n",
    "\n",
    "        inputs.append([0.1*i, 1-0.1*i])\n",
    "        labels.append(1)\n",
    "\n",
    "    return np.array(inputs), np.array(labels).reshape(21 ,1)"
   ]
  },
  {
   "cell_type": "code",
   "execution_count": 4,
   "metadata": {},
   "outputs": [],
   "source": [
    "def show_result(x, y, pred_y):\n",
    "    plt.subplot(1, 2, 1)\n",
    "    plt.title('Ground Truth', fontsize=18)\n",
    "    for i in range(x.shape[0]):\n",
    "        if y[i] == 0:\n",
    "            plt.plot(x[i][0], x[i][1], 'ro')\n",
    "        else:\n",
    "            plt.plot(x[i][0], x[i][1], 'bo')\n",
    "\n",
    "    plt.subplot(1, 2, 2)\n",
    "    plt.title('Predict result', fontsize=18)\n",
    "    for i in range(x.shape[0]):\n",
    "        if pred_y[i] == 0:\n",
    "            plt.plot(x[i][0], x[i][1], 'ro')\n",
    "        else:\n",
    "            plt.plot(x[i][0], x[i][1], 'bo')\n",
    "\n",
    "    plt.show()"
   ]
  },
  {
   "cell_type": "code",
   "execution_count": 5,
   "metadata": {},
   "outputs": [],
   "source": [
    "def sigmoid(x):\n",
    "    return 1.0/(1.0 + np.exp(-x))\n",
    "\n",
    "def derivative_sigmoid(x):\n",
    "    return np.multiply(x, 1.0-x)\n",
    "\n",
    "def loss(y, y_hat):\n",
    "    # Mean Square Error\n",
    "    return np.mean((y-y_hat)**2)\n",
    "\n",
    "def derivative_loss(y, y_hat):\n",
    "    return (y-y_hat)*(2/y.shape[0])"
   ]
  },
  {
   "cell_type": "code",
   "execution_count": 6,
   "metadata": {},
   "outputs": [],
   "source": [
    "class layer():\n",
    "    def __init__(self, input_size, output_size):\n",
    "        self.weight = np.random.normal(0, 1, (input_size+1, output_size))\n",
    "\n",
    "    def forward(self, x):\n",
    "        # Append bias into the x\n",
    "        x = np.append(x, np.ones((x.shape[0], 1)), axis=1)\n",
    "        self.forward_gradient = x\n",
    "        self.y = sigmoid(np.matmul(x, self.weight))\n",
    "        return self.y\n",
    "\n",
    "    def backward(self, grad):\n",
    "        #\\frac{\\partial C}{\\partial \\omega^{(L)}} = \\frac{\\partial z^{(L)}}{\\partial \\omega^{(L)}} \\frac{\\partial a^{(L)}}{\\partial z^{(L)}} \\frac{\\partial C_0}{\\partial a^{(L)}}\n",
    "        self.backward_gradient = np.multiply(derivative_sigmoid(self.y), grad)\n",
    "        return np.matmul(self.backward_gradient, self.weight[:-1].T)\n",
    "\n",
    "    def update(self, learning_rate):\n",
    "        self.gradient = np.matmul(self.forward_gradient.T, self.backward_gradient)\n",
    "        self.weight -= learning_rate * self.gradient\n",
    "        return self.gradient"
   ]
  },
  {
   "cell_type": "code",
   "execution_count": 7,
   "metadata": {},
   "outputs": [],
   "source": [
    "class Dense():\n",
    "    def __init__(self, width, learning_rate=0.1):\n",
    "        self.learning_rate = learning_rate\n",
    "        self.layer = [layer(before, after) for before, after in zip(width[:-1], width[1:])]\n",
    "\n",
    "    def forward(self, x):\n",
    "        result = x\n",
    "        for lay in self.layer:\n",
    "            result = lay.forward(result)\n",
    "        return result\n",
    "\n",
    "    def backward(self, grad):\n",
    "        result = grad\n",
    "        for lay in self.layer[::-1]:\n",
    "            result = lay.backward(result)\n",
    "        return result\n",
    "\n",
    "    def update(self):\n",
    "        gradients = [lay.update(self.learning_rate) for lay in self.layer]\n",
    "        return gradients"
   ]
  },
  {
   "cell_type": "code",
   "execution_count": 8,
   "metadata": {},
   "outputs": [],
   "source": [
    "nn_linear = Dense([2, 4, 4, 1], 1)\n",
    "nn_xor = Dense([2, 4, 4, 1], 1)\n",
    "\n",
    "epoch = 100000\n",
    "loss_tol = 0.0001"
   ]
  },
  {
   "cell_type": "code",
   "execution_count": 9,
   "metadata": {},
   "outputs": [
    {
     "name": "stdout",
     "output_type": "stream",
     "text": [
      "----------------------------------------------------------------------------------------------------\n",
      "Linear Model has started\n",
      "----------------------------------------------------------------------------------------------------\n",
      "Epoch 5000 loss: 0.0037818146047146777\n",
      "Epoch 10000 loss: 0.001558447987060981\n",
      "Epoch 15000 loss: 0.0008758128700111306\n",
      "Epoch 20000 loss: 0.0005693068981069266\n",
      "Epoch 25000 loss: 0.00040380531765245786\n",
      "Epoch 30000 loss: 0.0003038856192793466\n",
      "Epoch 35000 loss: 0.00023872732158024425\n",
      "Epoch 40000 loss: 0.0001937349194023958\n",
      "Epoch 45000 loss: 0.00016125831376040758\n",
      "Epoch 50000 loss: 0.0001369715175833124\n",
      "Epoch 55000 loss: 0.00011827763750285421\n",
      "Epoch 60000 loss: 0.00010354018244280873\n",
      "Linear Model Performance is satisfactory\n"
     ]
    }
   ],
   "source": [
    "print('{}\\nLinear Model has started\\n{}'.format('-'*100, '-'*100))\n",
    "x_linear, y_linear = generate_linear()\n",
    "count = 0\n",
    "for i in range(epoch):\n",
    "    y = nn_linear.forward(x_linear)\n",
    "    loss_linear = loss(y, y_linear)\n",
    "    nn_linear.backward(derivative_loss(y, y_linear))\n",
    "    nn_linear.update()\n",
    "\n",
    "    if (i+1)%5000 == 0:\n",
    "        print('Epoch {} loss: {}'.format(i+1, loss_linear))\n",
    "\n",
    "    if loss_linear < loss_tol:\n",
    "        count += 1\n",
    "        if count == 5:\n",
    "            print('Linear Model Performance is satisfactory')\n",
    "            break\n",
    "    else:\n",
    "        count = 0"
   ]
  },
  {
   "cell_type": "code",
   "execution_count": 10,
   "metadata": {},
   "outputs": [
    {
     "name": "stdout",
     "output_type": "stream",
     "text": [
      "----------------------------------------------------------------------------------------------------\n",
      "XOR Model has started\n",
      "----------------------------------------------------------------------------------------------------\n",
      "Epoch 5000 loss: 0.0005635906918288244\n",
      "Epoch 10000 loss: 0.00017885907522759828\n",
      "Epoch 15000 loss: 0.00010068474071034245\n",
      "XOR Model Performance is satisfactory\n"
     ]
    }
   ],
   "source": [
    "print('{}\\nXOR Model has started\\n{}'.format('-'*100, '-'*100))\n",
    "x_xor, y_xor = generate_XOR_easy()\n",
    "count = 0\n",
    "for i in range(epoch):\n",
    "    y = nn_xor.forward(x_xor)\n",
    "    loss_xor = loss(y, y_xor)\n",
    "    nn_xor.backward(derivative_loss(y, y_xor))\n",
    "    nn_xor.update()\n",
    "\n",
    "    if (i+1)%5000 == 0:\n",
    "        print('Epoch {} loss: {}'.format(i+1, loss_xor))\n",
    "\n",
    "    if loss_xor < loss_tol:\n",
    "        count += 1\n",
    "        if count == 5:\n",
    "            print('XOR Model Performance is satisfactory')\n",
    "            break\n",
    "    else:\n",
    "        count = 0"
   ]
  },
  {
   "cell_type": "code",
   "execution_count": 11,
   "metadata": {},
   "outputs": [
    {
     "data": {
      "image/png": "[encoded data removed]",
      "text/plain": [
       "<Figure size 432x288 with 2 Axes>"
      ]
     },
     "metadata": {
      "needs_background": "light"
     },
     "output_type": "display_data"
    },
    {
     "name": "stdout",
     "output_type": "stream",
     "text": [
      "linear test loss :  9.998650667526666e-05\n",
      "linear test accuracy : 100.00%\n",
      "\n",
      " linear test result : \n",
      " [[1.59874280e-05]\n",
      " [9.99997616e-01]\n",
      " [4.31640750e-06]\n",
      " [4.97630860e-04]\n",
      " [1.16766819e-05]\n",
      " [3.95854445e-06]\n",
      " [3.11504112e-06]\n",
      " [2.59215700e-06]\n",
      " [2.49154996e-06]\n",
      " [9.99999314e-01]\n",
      " [9.92519378e-01]\n",
      " [2.76201833e-06]\n",
      " [9.99999382e-01]\n",
      " [2.60861225e-06]\n",
      " [2.47244166e-06]\n",
      " [4.58996364e-06]\n",
      " [9.99999383e-01]\n",
      " [2.39847915e-06]\n",
      " [2.45193153e-06]\n",
      " [9.99999362e-01]\n",
      " [2.68239981e-06]\n",
      " [2.75800076e-06]\n",
      " [9.99999381e-01]\n",
      " [3.20796695e-06]\n",
      " [9.99998963e-01]\n",
      " [9.99999407e-01]\n",
      " [2.59725283e-06]\n",
      " [2.83704416e-06]\n",
      " [9.99999393e-01]\n",
      " [9.99998984e-01]\n",
      " [2.90209478e-05]\n",
      " [9.99998747e-01]\n",
      " [9.99999351e-01]\n",
      " [3.27658508e-06]\n",
      " [9.43864606e-01]\n",
      " [9.59051055e-01]\n",
      " [3.17704325e-06]\n",
      " [2.45104506e-06]\n",
      " [2.44802058e-06]\n",
      " [2.03350185e-03]\n",
      " [1.02962447e-04]\n",
      " [9.99999369e-01]\n",
      " [2.60275046e-06]\n",
      " [9.99999382e-01]\n",
      " [4.86426911e-06]\n",
      " [9.99999380e-01]\n",
      " [9.99998757e-01]\n",
      " [9.99999403e-01]\n",
      " [9.99999323e-01]\n",
      " [2.43478012e-05]\n",
      " [2.61118200e-06]\n",
      " [9.99982282e-01]\n",
      " [4.73947261e-05]\n",
      " [1.12771283e-05]\n",
      " [9.99999401e-01]\n",
      " [2.40226697e-06]\n",
      " [9.99999404e-01]\n",
      " [9.99999391e-01]\n",
      " [3.08721776e-06]\n",
      " [5.92323717e-03]\n",
      " [9.99999045e-01]\n",
      " [3.73498323e-06]\n",
      " [9.99999161e-01]\n",
      " [2.47351296e-06]\n",
      " [9.99999171e-01]\n",
      " [9.99999392e-01]\n",
      " [3.09767450e-06]\n",
      " [9.99999408e-01]\n",
      " [9.99999402e-01]\n",
      " [9.99999394e-01]\n",
      " [9.99999396e-01]\n",
      " [2.75798603e-06]\n",
      " [9.99999391e-01]\n",
      " [8.58729747e-06]\n",
      " [9.99999407e-01]\n",
      " [7.11901675e-02]\n",
      " [9.99999016e-01]\n",
      " [3.24751246e-06]\n",
      " [9.99999382e-01]\n",
      " [2.79208045e-06]\n",
      " [2.46433336e-06]\n",
      " [9.99278124e-01]\n",
      " [9.99988681e-01]\n",
      " [2.39029525e-06]\n",
      " [2.87425828e-06]\n",
      " [2.85284439e-06]\n",
      " [9.99999115e-01]\n",
      " [2.61240139e-06]\n",
      " [2.40866782e-06]\n",
      " [2.78702970e-06]\n",
      " [9.99999362e-01]\n",
      " [9.99999340e-01]\n",
      " [2.66812841e-06]\n",
      " [9.99999400e-01]\n",
      " [9.99999372e-01]\n",
      " [9.97471713e-01]\n",
      " [2.80299725e-06]\n",
      " [2.60840882e-06]\n",
      " [9.99494195e-01]\n",
      " [2.79360151e-06]]\n"
     ]
    }
   ],
   "source": [
    "y1 = nn_linear.forward(x_linear)\n",
    "show_result(x_linear, y_linear, np.rint(y1))\n",
    "print('linear test loss : ', loss(y1, y_linear))\n",
    "print('linear test accuracy : {:3.2f}%'.format(np.count_nonzero(np.round(y1) == y_linear) * 100 / len(y1)))\n",
    "print('\\n linear test result : \\n',y1)"
   ]
  },
  {
   "cell_type": "code",
   "execution_count": 12,
   "metadata": {},
   "outputs": [
    {
     "data": {
      "image/png": "[encoded data removed]",
      "text/plain": [
       "<Figure size 432x288 with 2 Axes>"
      ]
     },
     "metadata": {
      "needs_background": "light"
     },
     "output_type": "display_data"
    },
    {
     "name": "stdout",
     "output_type": "stream",
     "text": [
      "XOR test loss :  9.994957400957609e-05\n",
      "XOR test accuracy : 100.00%\n",
      "\n",
      " XOR test result : \n",
      " [[0.00544366]\n",
      " [0.99993656]\n",
      " [0.00720054]\n",
      " [0.99993344]\n",
      " [0.00931375]\n",
      " [0.9999239 ]\n",
      " [0.01150479]\n",
      " [0.99985182]\n",
      " [0.01319998]\n",
      " [0.97690564]\n",
      " [0.01369826]\n",
      " [0.01265334]\n",
      " [0.97746585]\n",
      " [0.01047016]\n",
      " [0.99966354]\n",
      " [0.00804613]\n",
      " [0.99976592]\n",
      " [0.0060936 ]\n",
      " [0.99976423]\n",
      " [0.0048382 ]\n",
      " [0.99974897]]\n"
     ]
    }
   ],
   "source": [
    "y2 = nn_xor.forward(x_xor)\n",
    "show_result(x_xor, y_xor, np.rint(y2))\n",
    "print('XOR test loss : ', loss(y2, y_xor))\n",
    "print('XOR test accuracy : {:3.2f}%'.format(np.count_nonzero(np.round(y2) == y_xor) * 100 / len(y2)))\n",
    "print('\\n XOR test result : \\n',y2)"
   ]
  },
  {
   "cell_type": "code",
   "execution_count": null,
   "metadata": {},
   "outputs": [],
   "source": []
  }
 ],
 "metadata": {
  "kernelspec": {
   "display_name": "Python 3",
   "language": "python",
   "name": "python3"
  },
  "language_info": {
   "codemirror_mode": {
    "name": "ipython",
    "version": 3
   },
   "file_extension": ".py",
   "mimetype": "text/x-python",
   "name": "python",
   "nbconvert_exporter": "python",
   "pygments_lexer": "ipython3",
   "version": "3.6.8"
  }
 },
 "nbformat": 4,
 "nbformat_minor": 2
}
