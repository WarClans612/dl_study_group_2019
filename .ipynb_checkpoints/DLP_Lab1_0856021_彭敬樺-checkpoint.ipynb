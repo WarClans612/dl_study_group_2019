{
 "cells": [
  {
   "cell_type": "code",
   "execution_count": 1,
   "metadata": {},
   "outputs": [],
   "source": [
    "import numpy as np\n",
    "import matplotlib.pyplot as plt"
   ]
  },
  {
   "cell_type": "code",
   "execution_count": 2,
   "metadata": {},
   "outputs": [],
   "source": [
    "def generate_linear(n=100):\n",
    "    pts = np.random.uniform(0, 1, (n, 2))\n",
    "    inputs = []\n",
    "    labels = []\n",
    "    for pt in pts:\n",
    "        inputs.append([pt[0], pt[1]])\n",
    "        distance = (pt[0]-pt[1])/1.414\n",
    "        if pt[0] > pt[1]:\n",
    "            labels.append(0)\n",
    "        else:\n",
    "            labels.append(1)\n",
    "    return np.array(inputs), np.array(labels).reshape(n, 1)"
   ]
  },
  {
   "cell_type": "code",
   "execution_count": 3,
   "metadata": {},
   "outputs": [],
   "source": [
    "def generate_XOR_easy():\n",
    "    inputs = []\n",
    "    labels = []\n",
    "\n",
    "    for i in range(11):\n",
    "        inputs.append([0.1*i, 0.1*i])\n",
    "        labels.append(0)\n",
    "        if 0.1*i == 0.5:\n",
    "            continue\n",
    "\n",
    "        inputs.append([0.1*i, 1-0.1*i])\n",
    "        labels.append(1)\n",
    "\n",
    "    return np.array(inputs), np.array(labels).reshape(21 ,1)"
   ]
  },
  {
   "cell_type": "code",
   "execution_count": 4,
   "metadata": {},
   "outputs": [],
   "source": [
    "def show_result(x, y, pred_y):\n",
    "    plt.subplot(1, 2, 1)\n",
    "    plt.title('Ground Truth', fontsize=18)\n",
    "    for i in range(x.shape[0]):\n",
    "        if y[i] == 0:\n",
    "            plt.plot(x[i][0], x[i][1], 'ro')\n",
    "        else:\n",
    "            plt.plot(x[i][0], x[i][1], 'bo')\n",
    "\n",
    "    plt.subplot(1, 2, 2)\n",
    "    plt.title('Predict result', fontsize=18)\n",
    "    for i in range(x.shape[0]):\n",
    "        if pred_y[i] == 0:\n",
    "            plt.plot(x[i][0], x[i][1], 'ro')\n",
    "        else:\n",
    "            plt.plot(x[i][0], x[i][1], 'bo')\n",
    "\n",
    "    plt.show()"
   ]
  },
  {
   "cell_type": "code",
   "execution_count": 5,
   "metadata": {},
   "outputs": [],
   "source": [
    "def sigmoid(x):\n",
    "    return 1.0/(1.0 + np.exp(-x))\n",
    "\n",
    "def derivative_sigmoid(x):\n",
    "    return np.multiply(x, 1.0-x)\n",
    "\n",
    "def loss(y, y_hat):\n",
    "    # Mean Square Error\n",
    "    return np.mean((y-y_hat)**2)\n",
    "\n",
    "def derivative_loss(y, y_hat):\n",
    "    return (y-y_hat)*(2/y.shape[0])"
   ]
  },
  {
   "cell_type": "code",
   "execution_count": 6,
   "metadata": {},
   "outputs": [],
   "source": [
    "class layer():\n",
    "    def __init__(self, input_size, output_size):\n",
    "        self.weight = np.random.normal(0, 1, (input_size+1, output_size))\n",
    "\n",
    "    def forward(self, x):\n",
    "        # Append bias into the x\n",
    "        x = np.append(x, np.ones((x.shape[0], 1)), axis=1)\n",
    "        self.forward_gradient = x\n",
    "        self.y = sigmoid(np.matmul(x, self.weight))\n",
    "        return self.y\n",
    "\n",
    "    def backward(self, grad):\n",
    "        #\\frac{\\partial C}{\\partial \\omega^{(L)}} = \\frac{\\partial z^{(L)}}{\\partial \\omega^{(L)}} \\frac{\\partial a^{(L)}}{\\partial z^{(L)}} \\frac{\\partial C_0}{\\partial a^{(L)}}\n",
    "        self.backward_gradient = np.multiply(derivative_sigmoid(self.y), grad)\n",
    "        return np.matmul(self.backward_gradient, self.weight[:-1].T)\n",
    "\n",
    "    def update(self, learning_rate):\n",
    "        self.gradient = np.matmul(self.forward_gradient.T, self.backward_gradient)\n",
    "        self.weight -= learning_rate * self.gradient\n",
    "        return self.gradient"
   ]
  },
  {
   "cell_type": "code",
   "execution_count": 7,
   "metadata": {},
   "outputs": [],
   "source": [
    "class Dense():\n",
    "    def __init__(self, width, learning_rate=0.1):\n",
    "        self.learning_rate = learning_rate\n",
    "        self.layer = [layer(before, after) for before, after in zip(width[:-1], width[1:])]\n",
    "\n",
    "    def forward(self, x):\n",
    "        result = x\n",
    "        for lay in self.layer:\n",
    "            result = lay.forward(result)\n",
    "        return result\n",
    "\n",
    "    def backward(self, grad):\n",
    "        result = grad\n",
    "        for lay in self.layer[::-1]:\n",
    "            result = lay.backward(result)\n",
    "        return result\n",
    "\n",
    "    def update(self):\n",
    "        gradients = [lay.update(self.learning_rate) for lay in self.layer]\n",
    "        return gradients"
   ]
  },
  {
   "cell_type": "code",
   "execution_count": 8,
   "metadata": {},
   "outputs": [],
   "source": [
    "nn_linear = Dense([2, 4, 4, 1], 1)\n",
    "nn_xor = Dense([2, 4, 4, 1], 1)\n",
    "\n",
    "epoch = 100000\n",
    "loss_tol = 0.001"
   ]
  },
  {
   "cell_type": "code",
   "execution_count": 9,
   "metadata": {},
   "outputs": [
    {
     "name": "stdout",
     "output_type": "stream",
     "text": [
      "----------------------------------------------------------------------------------------------------\n",
      "Linear Model has started\n",
      "----------------------------------------------------------------------------------------------------\n",
      "Epoch 5000 loss: 0.0021199476654180315\n",
      "Linear Model Performance is satisfactory\n"
     ]
    }
   ],
   "source": [
    "print('{}\\nLinear Model has started\\n{}'.format('-'*100, '-'*100))\n",
    "x_linear, y_linear = generate_linear()\n",
    "count = 0\n",
    "for i in range(epoch):\n",
    "    y = nn_linear.forward(x_linear)\n",
    "    loss_linear = loss(y, y_linear)\n",
    "    nn_linear.backward(derivative_loss(y, y_linear))\n",
    "    nn_linear.update()\n",
    "\n",
    "    if (i+1)%5000 == 0:\n",
    "        print('Epoch {} loss: {}'.format(i+1, loss_linear))\n",
    "\n",
    "    if loss_linear < loss_tol:\n",
    "        count += 1\n",
    "        if count == 5:\n",
    "            print('Linear Model Performance is satisfactory')\n",
    "            break\n",
    "    else:\n",
    "        count = 0"
   ]
  },
  {
   "cell_type": "code",
   "execution_count": 10,
   "metadata": {},
   "outputs": [
    {
     "name": "stdout",
     "output_type": "stream",
     "text": [
      "----------------------------------------------------------------------------------------------------\n",
      "XOR Model has started\n",
      "----------------------------------------------------------------------------------------------------\n",
      "Epoch 5000 loss: 0.04411790877671321\n",
      "Epoch 10000 loss: 0.04343432211303685\n",
      "Epoch 15000 loss: 0.043362703235351706\n",
      "Epoch 20000 loss: 0.043335146057038726\n",
      "Epoch 25000 loss: 0.04331111953447196\n",
      "Epoch 30000 loss: 0.042800363041240956\n",
      "Epoch 35000 loss: 0.005842025353900093\n",
      "XOR Model Performance is satisfactory\n"
     ]
    }
   ],
   "source": [
    "print('{}\\nXOR Model has started\\n{}'.format('-'*100, '-'*100))\n",
    "x_xor, y_xor = generate_XOR_easy()\n",
    "count = 0\n",
    "for i in range(epoch):\n",
    "    y = nn_xor.forward(x_xor)\n",
    "    loss_xor = loss(y, y_xor)\n",
    "    nn_xor.backward(derivative_loss(y, y_xor))\n",
    "    nn_xor.update()\n",
    "\n",
    "    if (i+1)%5000 == 0:\n",
    "        print('Epoch {} loss: {}'.format(i+1, loss_xor))\n",
    "\n",
    "    if loss_xor < loss_tol:\n",
    "        count += 1\n",
    "        if count == 5:\n",
    "            print('XOR Model Performance is satisfactory')\n",
    "            break\n",
    "    else:\n",
    "        count = 0"
   ]
  },
  {
   "cell_type": "code",
   "execution_count": 12,
   "metadata": {},
   "outputs": [
    {
     "data": {
      "image/png": "[encoded data removed]",
      "text/plain": [
       "<Figure size 432x288 with 2 Axes>"
      ]
     },
     "metadata": {
      "needs_background": "light"
     },
     "output_type": "display_data"
    },
    {
     "name": "stdout",
     "output_type": "stream",
     "text": [
      "linear test loss :  0.0009989388136133453\n",
      "linear test accuracy : 100.00%\n",
      "\n",
      " linear test result : \n",
      " [[9.77586167e-01]\n",
      " [9.99811565e-01]\n",
      " [9.99854645e-01]\n",
      " [2.01371292e-04]\n",
      " [1.44542441e-02]\n",
      " [8.24024092e-04]\n",
      " [1.54919568e-04]\n",
      " [9.99950704e-01]\n",
      " [5.14320247e-04]\n",
      " [9.99845208e-01]\n",
      " [9.99959282e-01]\n",
      " [9.99965391e-01]\n",
      " [9.99922930e-01]\n",
      " [9.82615266e-01]\n",
      " [9.99952663e-01]\n",
      " [1.48601570e-04]\n",
      " [9.99965914e-01]\n",
      " [2.62444107e-04]\n",
      " [1.31889653e-03]\n",
      " [9.99962806e-01]\n",
      " [9.99949608e-01]\n",
      " [6.89259187e-04]\n",
      " [9.99962069e-01]\n",
      " [1.64276401e-04]\n",
      " [1.60960064e-04]\n",
      " [2.93146485e-04]\n",
      " [1.38342454e-04]\n",
      " [6.00501232e-04]\n",
      " [1.95219844e-04]\n",
      " [1.81964988e-04]\n",
      " [6.00810142e-02]\n",
      " [1.10552885e-02]\n",
      " [5.43716221e-03]\n",
      " [9.99944850e-01]\n",
      " [1.47763335e-04]\n",
      " [1.99166677e-01]\n",
      " [9.98438535e-01]\n",
      " [9.99917147e-01]\n",
      " [1.40590620e-04]\n",
      " [9.99909472e-01]\n",
      " [4.79745371e-04]\n",
      " [9.99683059e-01]\n",
      " [9.99966189e-01]\n",
      " [9.99908982e-01]\n",
      " [9.99967907e-01]\n",
      " [9.99966427e-01]\n",
      " [5.54336787e-02]\n",
      " [1.86680718e-04]\n",
      " [9.99958510e-01]\n",
      " [1.43827352e-04]\n",
      " [4.37930542e-04]\n",
      " [9.99968022e-01]\n",
      " [8.44956967e-04]\n",
      " [9.99798929e-01]\n",
      " [9.02522505e-01]\n",
      " [1.41785738e-04]\n",
      " [8.70460351e-01]\n",
      " [9.99968886e-01]\n",
      " [3.06350478e-04]\n",
      " [9.04462940e-01]\n",
      " [4.28454333e-04]\n",
      " [9.99965575e-01]\n",
      " [3.56614535e-03]\n",
      " [9.99968423e-01]\n",
      " [9.89882998e-01]\n",
      " [2.11197471e-04]\n",
      " [9.99838329e-01]\n",
      " [1.57864507e-04]\n",
      " [8.96040561e-01]\n",
      " [3.84976343e-02]\n",
      " [9.99966288e-01]\n",
      " [9.90226036e-01]\n",
      " [2.41664524e-03]\n",
      " [1.63667887e-04]\n",
      " [1.62238918e-04]\n",
      " [1.47310281e-04]\n",
      " [1.39741020e-04]\n",
      " [9.99790073e-01]\n",
      " [9.91443804e-01]\n",
      " [9.99966404e-01]\n",
      " [3.64750711e-04]\n",
      " [1.44861156e-04]\n",
      " [3.15147462e-04]\n",
      " [9.99968454e-01]\n",
      " [2.36136324e-02]\n",
      " [6.96886364e-04]\n",
      " [1.41682204e-04]\n",
      " [1.92098272e-04]\n",
      " [1.90686397e-04]\n",
      " [9.99960166e-01]\n",
      " [1.52554959e-04]\n",
      " [1.75433450e-04]\n",
      " [1.45196935e-04]\n",
      " [6.18270983e-02]\n",
      " [9.99965411e-01]\n",
      " [9.99967909e-01]\n",
      " [9.99889692e-01]\n",
      " [1.49380396e-04]\n",
      " [2.37170003e-04]\n",
      " [9.99967827e-01]]\n"
     ]
    }
   ],
   "source": [
    "y1 = nn_linear.forward(x_linear)\n",
    "show_result(x_linear, y_linear, np.rint(y1))\n",
    "print('linear test loss : ', loss(y1, y_linear))\n",
    "print('linear test accuracy : {:3.2f}%'.format(np.count_nonzero(np.round(y1) == y_linear) * 100 / len(y1)))\n",
    "print('\\n linear test result : \\n',y1)"
   ]
  },
  {
   "cell_type": "code",
   "execution_count": 13,
   "metadata": {},
   "outputs": [
    {
     "data": {
      "image/png": "[encoded data removed]",
      "text/plain": [
       "<Figure size 432x288 with 2 Axes>"
      ]
     },
     "metadata": {
      "needs_background": "light"
     },
     "output_type": "display_data"
    },
    {
     "name": "stdout",
     "output_type": "stream",
     "text": [
      "XOR test loss :  0.0009981112007467967\n",
      "XOR test accuracy : 100.00%\n",
      "\n",
      " XOR test result : \n",
      " [[1.67774918e-02]\n",
      " [9.98518023e-01]\n",
      " [1.19797401e-02]\n",
      " [9.98945090e-01]\n",
      " [7.76840686e-03]\n",
      " [9.99163982e-01]\n",
      " [4.97007578e-03]\n",
      " [9.98985564e-01]\n",
      " [3.73610233e-02]\n",
      " [9.38219171e-01]\n",
      " [9.49457895e-02]\n",
      " [9.69204565e-04]\n",
      " [9.23801013e-01]\n",
      " [7.79879838e-04]\n",
      " [9.95334508e-01]\n",
      " [7.16402188e-04]\n",
      " [9.93076698e-01]\n",
      " [6.84833113e-04]\n",
      " [9.88222629e-01]\n",
      " [6.68199904e-04]\n",
      " [9.85852114e-01]]\n"
     ]
    }
   ],
   "source": [
    "y2 = nn_xor.forward(x_xor)\n",
    "show_result(x_xor, y_xor, np.rint(y2))\n",
    "print('XOR test loss : ', loss(y2, y_xor))\n",
    "print('XOR test accuracy : {:3.2f}%'.format(np.count_nonzero(np.round(y2) == y_xor) * 100 / len(y2)))\n",
    "print('\\n XOR test result : \\n',y2)"
   ]
  },
  {
   "cell_type": "code",
   "execution_count": null,
   "metadata": {},
   "outputs": [],
   "source": []
  }
 ],
 "metadata": {
  "kernelspec": {
   "display_name": "Python 3",
   "language": "python",
   "name": "python3"
  },
  "language_info": {
   "codemirror_mode": {
    "name": "ipython",
    "version": 3
   },
   "file_extension": ".py",
   "mimetype": "text/x-python",
   "name": "python",
   "nbconvert_exporter": "python",
   "pygments_lexer": "ipython3",
   "version": "3.6.8"
  }
 },
 "nbformat": 4,
 "nbformat_minor": 2
}
